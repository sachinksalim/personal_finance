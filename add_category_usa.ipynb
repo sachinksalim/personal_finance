{
 "cells": [
  {
   "cell_type": "code",
   "execution_count": 1,
   "metadata": {},
   "outputs": [],
   "source": [
    "import pandas as pd\n",
    "import warnings\n",
    "from utils import *\n",
    "warnings.filterwarnings('ignore')"
   ]
  },
  {
   "cell_type": "code",
   "execution_count": 2,
   "metadata": {},
   "outputs": [
    {
     "name": "stdout",
     "output_type": "stream",
     "text": [
      "[INFO] Logging level is: DEBUG\n"
     ]
    },
    {
     "data": {
      "text/html": [
       "<div>\n",
       "<style scoped>\n",
       "    .dataframe tbody tr th:only-of-type {\n",
       "        vertical-align: middle;\n",
       "    }\n",
       "\n",
       "    .dataframe tbody tr th {\n",
       "        vertical-align: top;\n",
       "    }\n",
       "\n",
       "    .dataframe thead th {\n",
       "        text-align: right;\n",
       "    }\n",
       "</style>\n",
       "<table border=\"1\" class=\"dataframe\">\n",
       "  <thead>\n",
       "    <tr style=\"text-align: right;\">\n",
       "      <th></th>\n",
       "      <th>Date</th>\n",
       "      <th>Description</th>\n",
       "      <th>Amount</th>\n",
       "      <th>AutoCategory</th>\n",
       "      <th>AccHolder</th>\n",
       "      <th>BankName</th>\n",
       "      <th>AccType</th>\n",
       "      <th>Category</th>\n",
       "      <th>Subcategory</th>\n",
       "    </tr>\n",
       "  </thead>\n",
       "  <tbody>\n",
       "    <tr>\n",
       "      <th>0</th>\n",
       "      <td>2024-06-01</td>\n",
       "      <td>ANNUAL MEMBERSHIP FEE</td>\n",
       "      <td>-95.00</td>\n",
       "      <td>Fees &amp; Adjustments</td>\n",
       "      <td>nowrin</td>\n",
       "      <td>chase</td>\n",
       "      <td>credit</td>\n",
       "      <td>subscriptions</td>\n",
       "      <td>sapphire</td>\n",
       "    </tr>\n",
       "    <tr>\n",
       "      <th>1</th>\n",
       "      <td>2024-06-01</td>\n",
       "      <td>ATT*BILL PAYMENT</td>\n",
       "      <td>-55.35</td>\n",
       "      <td>Bills &amp; Utilities</td>\n",
       "      <td>sachin</td>\n",
       "      <td>chase</td>\n",
       "      <td>credit</td>\n",
       "      <td>utilities</td>\n",
       "      <td>wifi</td>\n",
       "    </tr>\n",
       "  </tbody>\n",
       "</table>\n",
       "</div>"
      ],
      "text/plain": [
       "        Date            Description  Amount        AutoCategory AccHolder  \\\n",
       "0 2024-06-01  ANNUAL MEMBERSHIP FEE  -95.00  Fees & Adjustments    nowrin   \n",
       "1 2024-06-01       ATT*BILL PAYMENT  -55.35   Bills & Utilities    sachin   \n",
       "\n",
       "  BankName AccType       Category Subcategory  \n",
       "0    chase  credit  subscriptions    sapphire  \n",
       "1    chase  credit      utilities        wifi  "
      ]
     },
     "execution_count": 2,
     "metadata": {},
     "output_type": "execute_result"
    }
   ],
   "source": [
    "filter_info = load_filter()\n",
    "    \n",
    "logger = Logger(log_level=\"DEBUG\")\n",
    "\n",
    "INPUT_DATA_DIR = 'output'\n",
    "OUTPUT_DATA_DIR = 'output'\n",
    "\n",
    "data = pd.read_excel(f'{INPUT_DATA_DIR}/{get_title(filter_info, notes=False)}.xlsx', index_col=False)\n",
    "data.head(2)"
   ]
  },
  {
   "cell_type": "code",
   "execution_count": 3,
   "metadata": {},
   "outputs": [
    {
     "data": {
      "text/html": [
       "<div>\n",
       "<style scoped>\n",
       "    .dataframe tbody tr th:only-of-type {\n",
       "        vertical-align: middle;\n",
       "    }\n",
       "\n",
       "    .dataframe tbody tr th {\n",
       "        vertical-align: top;\n",
       "    }\n",
       "\n",
       "    .dataframe thead th {\n",
       "        text-align: right;\n",
       "    }\n",
       "</style>\n",
       "<table border=\"1\" class=\"dataframe\">\n",
       "  <thead>\n",
       "    <tr style=\"text-align: right;\">\n",
       "      <th></th>\n",
       "      <th>Keyword</th>\n",
       "      <th>Category</th>\n",
       "      <th>Subcategory</th>\n",
       "    </tr>\n",
       "  </thead>\n",
       "  <tbody>\n",
       "    <tr>\n",
       "      <th>0</th>\n",
       "      <td>flyover chicago</td>\n",
       "      <td>entertainment</td>\n",
       "      <td>chicago</td>\n",
       "    </tr>\n",
       "    <tr>\n",
       "      <th>1</th>\n",
       "      <td>shoreline sightseeing</td>\n",
       "      <td>entertainment</td>\n",
       "      <td>chicago</td>\n",
       "    </tr>\n",
       "    <tr>\n",
       "      <th>2</th>\n",
       "      <td>argo canoe livery</td>\n",
       "      <td>entertainment</td>\n",
       "      <td>kayak</td>\n",
       "    </tr>\n",
       "    <tr>\n",
       "      <th>3</th>\n",
       "      <td>bridal cave</td>\n",
       "      <td>entertainment</td>\n",
       "      <td>missouri</td>\n",
       "    </tr>\n",
       "    <tr>\n",
       "      <th>4</th>\n",
       "      <td>lakeoftheozarks</td>\n",
       "      <td>entertainment</td>\n",
       "      <td>missouri</td>\n",
       "    </tr>\n",
       "  </tbody>\n",
       "</table>\n",
       "</div>"
      ],
      "text/plain": [
       "                 Keyword       Category Subcategory\n",
       "0        flyover chicago  entertainment     chicago\n",
       "1  shoreline sightseeing  entertainment     chicago\n",
       "2      argo canoe livery  entertainment       kayak\n",
       "3            bridal cave  entertainment    missouri\n",
       "4        lakeoftheozarks  entertainment    missouri"
      ]
     },
     "execution_count": 3,
     "metadata": {},
     "output_type": "execute_result"
    }
   ],
   "source": [
    "category_info = pd.read_csv(f'utils/category.csv')\n",
    "category_info.head(5)"
   ]
  },
  {
   "cell_type": "code",
   "execution_count": 4,
   "metadata": {},
   "outputs": [
    {
     "data": {
      "text/html": [
       "<div>\n",
       "<style scoped>\n",
       "    .dataframe tbody tr th:only-of-type {\n",
       "        vertical-align: middle;\n",
       "    }\n",
       "\n",
       "    .dataframe tbody tr th {\n",
       "        vertical-align: top;\n",
       "    }\n",
       "\n",
       "    .dataframe thead th {\n",
       "        text-align: right;\n",
       "    }\n",
       "</style>\n",
       "<table border=\"1\" class=\"dataframe\">\n",
       "  <thead>\n",
       "    <tr style=\"text-align: right;\">\n",
       "      <th></th>\n",
       "      <th>Date</th>\n",
       "      <th>Description</th>\n",
       "      <th>Amount</th>\n",
       "      <th>AutoCategory</th>\n",
       "      <th>AccHolder</th>\n",
       "      <th>BankName</th>\n",
       "      <th>AccType</th>\n",
       "      <th>Category</th>\n",
       "      <th>Subcategory</th>\n",
       "    </tr>\n",
       "  </thead>\n",
       "  <tbody>\n",
       "    <tr>\n",
       "      <th>0</th>\n",
       "      <td>2024-06-01</td>\n",
       "      <td>ANNUAL MEMBERSHIP FEE</td>\n",
       "      <td>-95.00</td>\n",
       "      <td>Fees &amp; Adjustments</td>\n",
       "      <td>nowrin</td>\n",
       "      <td>chase</td>\n",
       "      <td>credit</td>\n",
       "      <td>subscriptions</td>\n",
       "      <td>sapphire</td>\n",
       "    </tr>\n",
       "    <tr>\n",
       "      <th>1</th>\n",
       "      <td>2024-06-01</td>\n",
       "      <td>ATT*BILL PAYMENT</td>\n",
       "      <td>-55.35</td>\n",
       "      <td>Bills &amp; Utilities</td>\n",
       "      <td>sachin</td>\n",
       "      <td>chase</td>\n",
       "      <td>credit</td>\n",
       "      <td>utilities</td>\n",
       "      <td>wifi</td>\n",
       "    </tr>\n",
       "  </tbody>\n",
       "</table>\n",
       "</div>"
      ],
      "text/plain": [
       "        Date            Description  Amount        AutoCategory AccHolder  \\\n",
       "0 2024-06-01  ANNUAL MEMBERSHIP FEE  -95.00  Fees & Adjustments    nowrin   \n",
       "1 2024-06-01       ATT*BILL PAYMENT  -55.35   Bills & Utilities    sachin   \n",
       "\n",
       "  BankName AccType       Category Subcategory  \n",
       "0    chase  credit  subscriptions    sapphire  \n",
       "1    chase  credit      utilities        wifi  "
      ]
     },
     "execution_count": 4,
     "metadata": {},
     "output_type": "execute_result"
    }
   ],
   "source": [
    "data[['Category', 'Subcategory']] = data.apply(\n",
    "    find_category, axis=1, result_type='reduce', args=(category_info,))\n",
    "data.head(2)"
   ]
  },
  {
   "cell_type": "code",
   "execution_count": 5,
   "metadata": {},
   "outputs": [
    {
     "name": "stdout",
     "output_type": "stream",
     "text": [
      "[INFO] Unass. data count : 0.00 %\n",
      "[INFO] Unass. data trans.: 0.00 %\n"
     ]
    }
   ],
   "source": [
    "unassigned_data = data.query(\"Category == 'others'\")\n",
    "logger.info(f\"Unass. data count : {100*len(unassigned_data)/len(data) :.2f} %\")\n",
    "logger.info(f\"Unass. data trans.: {100*unassigned_data['Amount'].abs().sum()/data['Amount'].abs().sum() :.2f} %\")"
   ]
  },
  {
   "cell_type": "code",
   "execution_count": 6,
   "metadata": {},
   "outputs": [],
   "source": [
    "filename = f\"{OUTPUT_DATA_DIR}/{get_title(filter_info)}\"\n",
    "write_to_excel(data, f\"{filename}.xlsx\")"
   ]
  }
 ],
 "metadata": {
  "kernelspec": {
   "display_name": "my_env",
   "language": "python",
   "name": "python3"
  },
  "language_info": {
   "codemirror_mode": {
    "name": "ipython",
    "version": 3
   },
   "file_extension": ".py",
   "mimetype": "text/x-python",
   "name": "python",
   "nbconvert_exporter": "python",
   "pygments_lexer": "ipython3",
   "version": "3.8.19"
  }
 },
 "nbformat": 4,
 "nbformat_minor": 2
}
