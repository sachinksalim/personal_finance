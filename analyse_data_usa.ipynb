{
 "cells": [
  {
   "cell_type": "code",
   "execution_count": null,
   "metadata": {},
   "outputs": [],
   "source": [
    "import numpy as np\n",
    "import pandas as pd\n",
    "import matplotlib.pyplot as plt\n",
    "import seaborn as sns\n",
    "import warnings\n",
    "from utils import *\n",
    "warnings.filterwarnings('ignore')"
   ]
  },
  {
   "cell_type": "code",
   "execution_count": null,
   "metadata": {},
   "outputs": [],
   "source": [
    "logger = Logger(log_level=\"DEBUG\")\n",
    "\n",
    "INPUT_DATA_DIR = 'output'\n",
    "OUTPUT_DATA_DIR = 'output'\n",
    "\n",
    "full_data = pd.read_csv(f'{OUTPUT_DATA_DIR}/full_data.csv', index_col=False)\n",
    "full_data['Date'] = pd.to_datetime(full_data['Date'])"
   ]
  },
  {
   "cell_type": "code",
   "execution_count": null,
   "metadata": {},
   "outputs": [],
   "source": [
    "full_data.head(2)"
   ]
  },
  {
   "cell_type": "code",
   "execution_count": null,
   "metadata": {},
   "outputs": [],
   "source": [
    "filter_info = {\n",
    "    'acc_holder': 'any', # ['sachin', 'nowrin', 'joint', 'any']\n",
    "    'date_period': {\n",
    "        'type': 'month', # ['all', 'from-to', 'month']\n",
    "        'year': 2023,\n",
    "        'month': 10\n",
    "    },\n",
    "}\n",
    "\n",
    "data = filter_data_by_info(full_data, filter_info)\n",
    "data.head(2)"
   ]
  },
  {
   "cell_type": "code",
   "execution_count": null,
   "metadata": {},
   "outputs": [],
   "source": [
    "category_info = pd.read_csv(f'utils/category.csv')\n",
    "category_info.head(5)"
   ]
  },
  {
   "cell_type": "code",
   "execution_count": null,
   "metadata": {},
   "outputs": [],
   "source": [
    "data[['Category', 'Subcategory']] = data.apply(\n",
    "    find_category, axis=1, result_type='reduce', args=(category_info,))\n",
    "data.head(2)"
   ]
  },
  {
   "cell_type": "code",
   "execution_count": null,
   "metadata": {},
   "outputs": [],
   "source": [
    "unassigned_data = data.query(\"Category == 'others'\")\n",
    "logger.info(f\"Unass. data count : {100*len(unassigned_data)/len(data) :.2f} %\")\n",
    "logger.info(f\"Unass. data trans.: {100*unassigned_data['Amount'].abs().sum()/data['Amount'].abs().sum() :.2f} %\")"
   ]
  },
  {
   "cell_type": "code",
   "execution_count": null,
   "metadata": {},
   "outputs": [],
   "source": [
    "if filter_info['date_period']['type'] == 'month':\n",
    "    YEAR = filter_info['date_period']['year']\n",
    "    MONTH = filter_info['date_period']['month']\n",
    "    # data.to_csv(f'{OUTPUT_DATA_DIR}/{YEAR}_{MONTH}_notes.csv', index=False)\n",
    "    write_to_excel(data,  f\"{OUTPUT_DATA_DIR}/{YEAR}_{MONTH}_notes.xlsx\")\n",
    "elif filter_info['date_period']['type'] == 'all':\n",
    "    write_to_excel(data,  f\"{OUTPUT_DATA_DIR}/full_data_notes.xlsx\")\n",
    "else:\n",
    "    pass"
   ]
  },
  {
   "cell_type": "code",
   "execution_count": null,
   "metadata": {},
   "outputs": [],
   "source": [
    "def describe_pie(df):\n",
    "    display(df.to_frame().T)\n",
    "    plot_pie(df)"
   ]
  },
  {
   "cell_type": "code",
   "execution_count": null,
   "metadata": {},
   "outputs": [],
   "source": [
    "all_expenses = data.pivot_table(values='Amount', index='Category', aggfunc='sum').squeeze().sort_values(ascending=False)\n",
    "relevant_expenses = all_expenses.drop(index=['salary', 'others', 'transfer'], errors='ignore') # , 'house'\n",
    "describe_pie(relevant_expenses)"
   ]
  },
  {
   "cell_type": "code",
   "execution_count": null,
   "metadata": {},
   "outputs": [],
   "source": [
    "groceries_expenses = data.query(\"Category == 'groceries'\").pivot_table(values='Amount', index='Subcategory', aggfunc='sum').squeeze().sort_values(ascending=False)\n",
    "describe_pie(groceries_expenses)"
   ]
  },
  {
   "cell_type": "code",
   "execution_count": null,
   "metadata": {},
   "outputs": [],
   "source": [
    "restaurant_expenses = data.query(\"Category == 'restaurant'\").pivot_table(values='Amount', index='Subcategory', aggfunc='sum').squeeze().sort_values(ascending=False)\n",
    "describe_pie(restaurant_expenses)"
   ]
  },
  {
   "cell_type": "code",
   "execution_count": null,
   "metadata": {},
   "outputs": [],
   "source": [
    "filter_info = {\n",
    "    'acc_holder': 'any', # ['sachin', 'nowrin', 'joint', 'any']\n",
    "    'date_period': {\n",
    "        'type': 'all', # ['all', 'from-to', 'month']\n",
    "    },\n",
    "}\n",
    "\n",
    "data = filter_data_by_info(full_data, filter_info)\n",
    "data[['Category', 'Subcategory']] = data.apply(\n",
    "    find_category, axis=1, result_type='reduce', args=(category_info,))"
   ]
  },
  {
   "cell_type": "code",
   "execution_count": null,
   "metadata": {},
   "outputs": [],
   "source": [
    "relevant_expenses"
   ]
  },
  {
   "cell_type": "code",
   "execution_count": null,
   "metadata": {},
   "outputs": [],
   "source": [
    "all_expenses = data.pivot_table(values='Amount', index='Category', aggfunc='sum').squeeze().sort_values(ascending=False)\n",
    "relevant_expenses = all_expenses.drop(index=['salary', 'others', 'transfer'], errors='ignore') # , 'house'\n",
    "describe_pie(relevant_expenses)"
   ]
  },
  {
   "cell_type": "code",
   "execution_count": null,
   "metadata": {},
   "outputs": [],
   "source": [
    "write_to_excel(data,  f\"{OUTPUT_DATA_DIR}/full_data_notes.xlsx\")"
   ]
  },
  {
   "cell_type": "code",
   "execution_count": null,
   "metadata": {},
   "outputs": [],
   "source": [
    "def visualize_gas(data):\n",
    "    interested_data = data.query(\"Category == 'gas'\")\n",
    "    interested_data['Amount'] = -interested_data['Amount']\n",
    "    interested_data['Date'] = pd.to_datetime(interested_data['Date'])\n",
    "    interested_data['YearMonth'] = interested_data['Date'].dt.to_period('M')\n",
    "    monthly_sum = interested_data.groupby('YearMonth')['Amount'].sum().reset_index()\n",
    "    monthly_sum['YearMonth'] = monthly_sum['YearMonth'].dt.to_timestamp()\n",
    "    plt.figure(figsize=(10, 6))\n",
    "    plt.plot(monthly_sum['YearMonth'], monthly_sum['Amount'], marker='o', linestyle='-')\n",
    "    plt.title('Monthly Amounts')\n",
    "    plt.xlabel('Month')\n",
    "    plt.ylabel('Total Amount')\n",
    "    plt.grid(True)\n",
    "    plt.xticks(rotation=45)\n",
    "    plt.tight_layout()\n",
    "    plt.show()\n",
    "\n",
    "visualize_gas(data)"
   ]
  },
  {
   "cell_type": "markdown",
   "metadata": {},
   "source": [
    "Other functions:\n",
    "\n",
    "* `visualize_salary(data)`: to see salary trajectory across months\n",
    "* `visualize_salary(food)`: to see groceries and restaurant trajectory across months"
   ]
  }
 ],
 "metadata": {
  "kernelspec": {
   "display_name": "Python 3",
   "language": "python",
   "name": "python3"
  },
  "language_info": {
   "codemirror_mode": {
    "name": "ipython",
    "version": 3
   },
   "file_extension": ".py",
   "mimetype": "text/x-python",
   "name": "python",
   "nbconvert_exporter": "python",
   "pygments_lexer": "ipython3",
   "version": "3.8.19"
  },
  "orig_nbformat": 4,
  "vscode": {
   "interpreter": {
    "hash": "9d34995e9b9aacf7236904ea7ddf7585a36f6be47e873dd30641939c3248d078"
   }
  }
 },
 "nbformat": 4,
 "nbformat_minor": 2
}
