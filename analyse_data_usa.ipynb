{
 "cells": [
  {
   "cell_type": "code",
   "execution_count": null,
   "metadata": {},
   "outputs": [],
   "source": [
    "import numpy as np\n",
    "import pandas as pd\n",
    "import matplotlib.pyplot as plt\n",
    "import seaborn as sns\n",
    "import warnings\n",
    "from utils import *\n",
    "warnings.filterwarnings('ignore')"
   ]
  },
  {
   "cell_type": "code",
   "execution_count": null,
   "metadata": {},
   "outputs": [],
   "source": [
    "INPUT_DATA_DIR = 'output'\n",
    "\n",
    "filter_info = load_filter()\n",
    "\n",
    "filename = get_title(filter_info)\n",
    "data = pd.read_excel(f'{INPUT_DATA_DIR}/{filename}.xlsx', index_col=False)\n",
    "data.head(2)"
   ]
  },
  {
   "cell_type": "code",
   "execution_count": null,
   "metadata": {},
   "outputs": [],
   "source": [
    "def plot_cat_expenses(df, cat):\n",
    "    print('========')\n",
    "    cat_expenses = df.query(f\"Category == '{cat}'\").pivot_table(values='Amount', index='Subcategory', aggfunc='sum')['Amount'].sort_values(ascending=False)\n",
    "    display(cat_expenses.to_frame().T)\n",
    "    plot_pie(cat_expenses, cat)\n",
    "    print('========')"
   ]
  },
  {
   "cell_type": "code",
   "execution_count": null,
   "metadata": {},
   "outputs": [],
   "source": [
    "all_transactions = data.pivot_table(values='Amount', index='Category', aggfunc='sum').squeeze().sort_values(ascending=False)\n",
    "all_expenses = all_transactions.drop(index=['income', 'transfer'], errors='ignore')\n",
    "display(all_expenses.to_frame().T)\n",
    "print(f\"Total expenses: {-all_expenses.sum():.2f}\")\n",
    "plot_pie(all_expenses, \"All Expenses\")\n",
    "\n",
    "income_and_others = pd.DataFrame(all_transactions).query(\"Category in ['income', 'others', 'transfer']\")\n",
    "display(income_and_others.T)\n",
    "plot_pie(income_and_others['Amount'], \"Income and Others\")"
   ]
  },
  {
   "cell_type": "code",
   "execution_count": null,
   "metadata": {},
   "outputs": [],
   "source": [
    "def display_budget_summary(df, cats, title=\"\", expense=True):\n",
    "    res_df = tabulate(df, cats, title, expense)\n",
    "    print(title)\n",
    "    display(res_df)\n",
    "    print(\"========\")"
   ]
  },
  {
   "cell_type": "code",
   "execution_count": null,
   "metadata": {},
   "outputs": [],
   "source": [
    "categs = [\n",
    "    ['house', 'rent'],\n",
    "    ['utilities', 'verizon'],\n",
    "    ['utilities', 'wifi'],\n",
    "    ['utilities', 'car insurance']\n",
    "]\n",
    "display_budget_summary(data, categs, 'Sachin Fixed Expenses')\n",
    "\n",
    "categs = [   \n",
    "    ['restaurant'],\n",
    "    ['groceries'],\n",
    "    ['utilities', 'electricity'],\n",
    "    ['subscriptions'],\n",
    "    ['entertainment']\n",
    "]\n",
    "display_budget_summary(data, categs, 'Sachin Variable Expenses')\n",
    "\n",
    "categs = [   \n",
    "    ['travel', 'gas'],\n",
    "    ['selfcare'],\n",
    "    ['travel', 'flight'],\n",
    "    ['education'],\n",
    "    ['shopping'],\n",
    "    ['social', 'gifts']\n",
    "]\n",
    "display_budget_summary(data, categs, 'Nowrin Variable Expenses')"
   ]
  },
  {
   "cell_type": "code",
   "execution_count": null,
   "metadata": {},
   "outputs": [],
   "source": [
    "categs = sorted(data['Category'].unique())\n",
    "\n",
    "for cat in categs:\n",
    "    plot_cat_expenses(data, cat)"
   ]
  },
  {
   "cell_type": "markdown",
   "metadata": {},
   "source": [
    "Other functions:\n",
    "\n",
    "* `visualize_salary(data)`: to see salary trajectory across months\n",
    "* `visualize_salary(food)`: to see groceries and restaurant trajectory across months"
   ]
  }
 ],
 "metadata": {
  "kernelspec": {
   "display_name": "Python 3",
   "language": "python",
   "name": "python3"
  },
  "language_info": {
   "codemirror_mode": {
    "name": "ipython",
    "version": 3
   },
   "file_extension": ".py",
   "mimetype": "text/x-python",
   "name": "python",
   "nbconvert_exporter": "python",
   "pygments_lexer": "ipython3",
   "version": "3.8.19"
  },
  "orig_nbformat": 4,
  "vscode": {
   "interpreter": {
    "hash": "9d34995e9b9aacf7236904ea7ddf7585a36f6be47e873dd30641939c3248d078"
   }
  }
 },
 "nbformat": 4,
 "nbformat_minor": 2
}
