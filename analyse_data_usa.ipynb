{
 "cells": [
  {
   "cell_type": "code",
   "execution_count": 38,
   "metadata": {},
   "outputs": [],
   "source": [
    "import pandas as pd\n",
    "import numpy as np\n",
    "import matplotlib.pyplot as plt\n",
    "import seaborn as sns\n",
    "from enum import Enum\n",
    "import warnings\n",
    "warnings.filterwarnings('ignore')"
   ]
  },
  {
   "cell_type": "code",
   "execution_count": 39,
   "metadata": {},
   "outputs": [],
   "source": [
    "YEAR = 2023\n",
    "MONTH = 6\n",
    "\n",
    "INPUT_DATA_DIR = 'output/'\n",
    "OUTPUT_DATA_DIR = 'output/'"
   ]
  },
  {
   "cell_type": "code",
   "execution_count": 40,
   "metadata": {},
   "outputs": [
    {
     "data": {
      "text/html": [
       "<div>\n",
       "<style scoped>\n",
       "    .dataframe tbody tr th:only-of-type {\n",
       "        vertical-align: middle;\n",
       "    }\n",
       "\n",
       "    .dataframe tbody tr th {\n",
       "        vertical-align: top;\n",
       "    }\n",
       "\n",
       "    .dataframe thead th {\n",
       "        text-align: right;\n",
       "    }\n",
       "</style>\n",
       "<table border=\"1\" class=\"dataframe\">\n",
       "  <thead>\n",
       "    <tr style=\"text-align: right;\">\n",
       "      <th></th>\n",
       "      <th>Date</th>\n",
       "      <th>Description</th>\n",
       "      <th>Amount</th>\n",
       "      <th>AutoCategory</th>\n",
       "      <th>AccHolder</th>\n",
       "      <th>BankName</th>\n",
       "      <th>AccType</th>\n",
       "    </tr>\n",
       "  </thead>\n",
       "  <tbody>\n",
       "    <tr>\n",
       "      <th>0</th>\n",
       "      <td>2023-06-01</td>\n",
       "      <td>KROGER 605</td>\n",
       "      <td>-23.8</td>\n",
       "      <td>Groceries</td>\n",
       "      <td>joint</td>\n",
       "      <td>chase</td>\n",
       "      <td>credit</td>\n",
       "    </tr>\n",
       "    <tr>\n",
       "      <th>1</th>\n",
       "      <td>2023-06-01</td>\n",
       "      <td>DD DOORDASH MARCOSPIZ</td>\n",
       "      <td>-15.9</td>\n",
       "      <td>Food &amp; Drink</td>\n",
       "      <td>joint</td>\n",
       "      <td>chase</td>\n",
       "      <td>credit</td>\n",
       "    </tr>\n",
       "  </tbody>\n",
       "</table>\n",
       "</div>"
      ],
      "text/plain": [
       "         Date            Description  Amount  AutoCategory AccHolder BankName  \\\n",
       "0  2023-06-01             KROGER 605   -23.8     Groceries     joint    chase   \n",
       "1  2023-06-01  DD DOORDASH MARCOSPIZ   -15.9  Food & Drink     joint    chase   \n",
       "\n",
       "  AccType  \n",
       "0  credit  \n",
       "1  credit  "
      ]
     },
     "execution_count": 40,
     "metadata": {},
     "output_type": "execute_result"
    }
   ],
   "source": [
    "data = pd.read_csv(f'{INPUT_DATA_DIR}/{YEAR}_{MONTH}.csv')\n",
    "data.head(2)"
   ]
  },
  {
   "cell_type": "code",
   "execution_count": 41,
   "metadata": {},
   "outputs": [],
   "source": [
    "def write_to_excel(data, filename):\n",
    "    writer = pd.ExcelWriter(f\"{INPUT_DATA_DIR}/{filename}.xlsx\")\n",
    "\n",
    "    data.to_excel(writer, \n",
    "                index=False,\n",
    "                freeze_panes=(1,0),\n",
    "                sheet_name='Sheet_1',\n",
    "                engine='xlsxwriter')\n",
    "\n",
    "    workbook  = writer.book\n",
    "    worksheet = writer.sheets['Sheet_1']\n",
    "    wrap_format = workbook.add_format({'text_wrap': True})\n",
    "    worksheet.set_column('A:A', 12)\n",
    "    worksheet.set_column('B:B', 30, wrap_format)\n",
    "    worksheet.set_column('D:D', 12, wrap_format)\n",
    "    worksheet.set_column('H:H', 12)\n",
    "    writer.save()"
   ]
  },
  {
   "cell_type": "code",
   "execution_count": 42,
   "metadata": {},
   "outputs": [],
   "source": [
    "def check_string(text, pattern):\n",
    "    if isinstance(pattern, str):\n",
    "        return pattern in text\n",
    "    elif isinstance(pattern, list):\n",
    "        return any(check_string(text, pat) for pat in pattern)\n",
    "    else:\n",
    "        return False"
   ]
  },
  {
   "cell_type": "code",
   "execution_count": 43,
   "metadata": {},
   "outputs": [
    {
     "data": {
      "text/html": [
       "<div>\n",
       "<style scoped>\n",
       "    .dataframe tbody tr th:only-of-type {\n",
       "        vertical-align: middle;\n",
       "    }\n",
       "\n",
       "    .dataframe tbody tr th {\n",
       "        vertical-align: top;\n",
       "    }\n",
       "\n",
       "    .dataframe thead th {\n",
       "        text-align: right;\n",
       "    }\n",
       "</style>\n",
       "<table border=\"1\" class=\"dataframe\">\n",
       "  <thead>\n",
       "    <tr style=\"text-align: right;\">\n",
       "      <th></th>\n",
       "      <th>Keyword</th>\n",
       "      <th>Category</th>\n",
       "      <th>Subcategory</th>\n",
       "    </tr>\n",
       "  </thead>\n",
       "  <tbody>\n",
       "    <tr>\n",
       "      <th>0</th>\n",
       "      <td>patel brothers</td>\n",
       "      <td>groceries</td>\n",
       "      <td>patel brothers</td>\n",
       "    </tr>\n",
       "    <tr>\n",
       "      <th>1</th>\n",
       "      <td>kroger</td>\n",
       "      <td>groceries</td>\n",
       "      <td>kroger</td>\n",
       "    </tr>\n",
       "    <tr>\n",
       "      <th>2</th>\n",
       "      <td>instacart</td>\n",
       "      <td>groceries</td>\n",
       "      <td>online</td>\n",
       "    </tr>\n",
       "    <tr>\n",
       "      <th>3</th>\n",
       "      <td>market@work</td>\n",
       "      <td>groceries</td>\n",
       "      <td>snacks</td>\n",
       "    </tr>\n",
       "    <tr>\n",
       "      <th>4</th>\n",
       "      <td>univ of michigan umich epay</td>\n",
       "      <td>house</td>\n",
       "      <td>rent</td>\n",
       "    </tr>\n",
       "  </tbody>\n",
       "</table>\n",
       "</div>"
      ],
      "text/plain": [
       "                       Keyword   Category     Subcategory\n",
       "0               patel brothers  groceries  patel brothers\n",
       "1                       kroger  groceries          kroger\n",
       "2                    instacart  groceries          online\n",
       "3                  market@work  groceries          snacks\n",
       "4  univ of michigan umich epay      house            rent"
      ]
     },
     "execution_count": 43,
     "metadata": {},
     "output_type": "execute_result"
    }
   ],
   "source": [
    "category_info = pd.read_csv(f'utils/category.csv')\n",
    "category_info.head(5)"
   ]
  },
  {
   "cell_type": "code",
   "execution_count": 44,
   "metadata": {},
   "outputs": [],
   "source": [
    "def find_category(row):\n",
    "    desc = row['Description'].lower()\n",
    "    desc = ' '.join(desc.strip().split()) # removing extra whitespace\n",
    "    # categ = row['AutoCategory'].lower()\n",
    "\n",
    "    for index, row in category_info.iterrows():\n",
    "        if row['Keyword'] in desc:\n",
    "            return row[['Category', 'Subcategory']]\n",
    "    \n",
    "    return pd.Series({'Category': 'others', 'Subcategory': 'others'})"
   ]
  },
  {
   "cell_type": "code",
   "execution_count": 45,
   "metadata": {},
   "outputs": [],
   "source": [
    "data[['Category', 'Subcategory']] = data.apply(\n",
    "    find_category, axis=1, result_type='reduce')"
   ]
  },
  {
   "cell_type": "code",
   "execution_count": 46,
   "metadata": {},
   "outputs": [
    {
     "name": "stdout",
     "output_type": "stream",
     "text": [
      "Empty categories: 25.71 %\n"
     ]
    }
   ],
   "source": [
    "empty_cats = (data['Category'].values == 'others').sum()\n",
    "total_records = len(data)\n",
    "print(f\"Empty categories: {100*empty_cats/total_records :.2f} %\")"
   ]
  },
  {
   "cell_type": "code",
   "execution_count": 47,
   "metadata": {},
   "outputs": [],
   "source": [
    "data.to_csv(f'{OUTPUT_DATA_DIR}{YEAR}_{MONTH}_notes.csv', index=False)\n",
    "write_to_excel(data, f'{YEAR}_{MONTH}_notes')"
   ]
  },
  {
   "cell_type": "code",
   "execution_count": 48,
   "metadata": {},
   "outputs": [],
   "source": [
    "def plot_pie(df):\n",
    "    display(df.to_frame().T)\n",
    "    colors = sns.color_palette('pastel', n_colors = len(df))\n",
    "\n",
    "    plt.pie(np.abs(df.values.squeeze()),\n",
    "            labels = df.index + \": $\" + np.abs(df.values.squeeze()).astype(int).astype(str),\n",
    "            colors = colors,\n",
    "            startangle = 90)\n",
    "    plt.show()"
   ]
  },
  {
   "cell_type": "code",
   "execution_count": 52,
   "metadata": {},
   "outputs": [],
   "source": [
    "all_expenses = data.pivot_table(values='Amount', index='Category', aggfunc='sum').squeeze().sort_values(ascending=False)"
   ]
  },
  {
   "cell_type": "code",
   "execution_count": 53,
   "metadata": {},
   "outputs": [
    {
     "data": {
      "text/html": [
       "<div>\n",
       "<style scoped>\n",
       "    .dataframe tbody tr th:only-of-type {\n",
       "        vertical-align: middle;\n",
       "    }\n",
       "\n",
       "    .dataframe tbody tr th {\n",
       "        vertical-align: top;\n",
       "    }\n",
       "\n",
       "    .dataframe thead th {\n",
       "        text-align: right;\n",
       "    }\n",
       "</style>\n",
       "<table border=\"1\" class=\"dataframe\">\n",
       "  <thead>\n",
       "    <tr style=\"text-align: right;\">\n",
       "      <th>Category</th>\n",
       "      <th>subscription</th>\n",
       "      <th>shopping</th>\n",
       "      <th>mobile</th>\n",
       "      <th>groceries</th>\n",
       "      <th>restaurant</th>\n",
       "      <th>travel</th>\n",
       "    </tr>\n",
       "  </thead>\n",
       "  <tbody>\n",
       "    <tr>\n",
       "      <th>Amount</th>\n",
       "      <td>-80.51</td>\n",
       "      <td>-117.05</td>\n",
       "      <td>-149.21</td>\n",
       "      <td>-231.26</td>\n",
       "      <td>-239.51</td>\n",
       "      <td>-1589.41</td>\n",
       "    </tr>\n",
       "  </tbody>\n",
       "</table>\n",
       "</div>"
      ],
      "text/plain": [
       "Category  subscription  shopping  mobile  groceries  restaurant   travel\n",
       "Amount          -80.51   -117.05 -149.21    -231.26     -239.51 -1589.41"
      ]
     },
     "metadata": {},
     "output_type": "display_data"
    },
    {
     "data": {
      "image/png": "[encoded data removed]",
      "text/plain": [
       "<Figure size 640x480 with 1 Axes>"
      ]
     },
     "metadata": {},
     "output_type": "display_data"
    }
   ],
   "source": [
    "all_expenses = data.pivot_table(values='Amount', index='Category', aggfunc='sum').squeeze().sort_values(ascending=False)\n",
    "relevant_expenses = all_expenses.drop(index=['salary', 'others', 'transfer']) # , 'house'\n",
    "plot_pie(relevant_expenses)"
   ]
  },
  {
   "cell_type": "code",
   "execution_count": 58,
   "metadata": {},
   "outputs": [
    {
     "data": {
      "text/html": [
       "<div>\n",
       "<style scoped>\n",
       "    .dataframe tbody tr th:only-of-type {\n",
       "        vertical-align: middle;\n",
       "    }\n",
       "\n",
       "    .dataframe tbody tr th {\n",
       "        vertical-align: top;\n",
       "    }\n",
       "\n",
       "    .dataframe thead th {\n",
       "        text-align: right;\n",
       "    }\n",
       "</style>\n",
       "<table border=\"1\" class=\"dataframe\">\n",
       "  <thead>\n",
       "    <tr style=\"text-align: right;\">\n",
       "      <th>Subcategory</th>\n",
       "      <th>online</th>\n",
       "      <th>om market</th>\n",
       "      <th>snacks</th>\n",
       "      <th>patel brothers</th>\n",
       "      <th>kroger</th>\n",
       "    </tr>\n",
       "  </thead>\n",
       "  <tbody>\n",
       "    <tr>\n",
       "      <th>Amount</th>\n",
       "      <td>0.0</td>\n",
       "      <td>-8.99</td>\n",
       "      <td>-18.32</td>\n",
       "      <td>-32.13</td>\n",
       "      <td>-171.82</td>\n",
       "    </tr>\n",
       "  </tbody>\n",
       "</table>\n",
       "</div>"
      ],
      "text/plain": [
       "Subcategory  online  om market  snacks  patel brothers  kroger\n",
       "Amount          0.0      -8.99  -18.32          -32.13 -171.82"
      ]
     },
     "metadata": {},
     "output_type": "display_data"
    },
    {
     "data": {
      "image/png": "[encoded data removed]",
      "text/plain": [
       "<Figure size 640x480 with 1 Axes>"
      ]
     },
     "metadata": {},
     "output_type": "display_data"
    }
   ],
   "source": [
    "groceries_expenses = data.query(\"Category == 'groceries'\").pivot_table(values='Amount', index='Subcategory', aggfunc='sum').squeeze().sort_values(ascending=False)\n",
    "plot_pie(groceries_expenses)"
   ]
  },
  {
   "cell_type": "code",
   "execution_count": 60,
   "metadata": {},
   "outputs": [
    {
     "data": {
      "text/html": [
       "<div>\n",
       "<style scoped>\n",
       "    .dataframe tbody tr th:only-of-type {\n",
       "        vertical-align: middle;\n",
       "    }\n",
       "\n",
       "    .dataframe tbody tr th {\n",
       "        vertical-align: top;\n",
       "    }\n",
       "\n",
       "    .dataframe thead th {\n",
       "        text-align: right;\n",
       "    }\n",
       "</style>\n",
       "<table border=\"1\" class=\"dataframe\">\n",
       "  <thead>\n",
       "    <tr style=\"text-align: right;\">\n",
       "      <th>Subcategory</th>\n",
       "      <th>bus</th>\n",
       "      <th>cab</th>\n",
       "      <th>gas</th>\n",
       "      <th>flight</th>\n",
       "      <th>stay</th>\n",
       "    </tr>\n",
       "  </thead>\n",
       "  <tbody>\n",
       "    <tr>\n",
       "      <th>Amount</th>\n",
       "      <td>-6.0</td>\n",
       "      <td>-17.85</td>\n",
       "      <td>-130.03</td>\n",
       "      <td>-531.92</td>\n",
       "      <td>-903.61</td>\n",
       "    </tr>\n",
       "  </tbody>\n",
       "</table>\n",
       "</div>"
      ],
      "text/plain": [
       "Subcategory  bus    cab     gas  flight    stay\n",
       "Amount      -6.0 -17.85 -130.03 -531.92 -903.61"
      ]
     },
     "metadata": {},
     "output_type": "display_data"
    },
    {
     "data": {
      "image/png": "[encoded data removed]",
      "text/plain": [
       "<Figure size 640x480 with 1 Axes>"
      ]
     },
     "metadata": {},
     "output_type": "display_data"
    }
   ],
   "source": [
    "travel_expenses = data.query(\"Category == 'travel'\").pivot_table(values='Amount', index='Subcategory', aggfunc='sum').squeeze().sort_values(ascending=False)\n",
    "plot_pie(travel_expenses)"
   ]
  }
 ],
 "metadata": {
  "kernelspec": {
   "display_name": "Python 3",
   "language": "python",
   "name": "python3"
  },
  "language_info": {
   "codemirror_mode": {
    "name": "ipython",
    "version": 3
   },
   "file_extension": ".py",
   "mimetype": "text/x-python",
   "name": "python",
   "nbconvert_exporter": "python",
   "pygments_lexer": "ipython3",
   "version": "3.10.11"
  },
  "orig_nbformat": 4,
  "vscode": {
   "interpreter": {
    "hash": "9d34995e9b9aacf7236904ea7ddf7585a36f6be47e873dd30641939c3248d078"
   }
  }
 },
 "nbformat": 4,
 "nbformat_minor": 2
}
